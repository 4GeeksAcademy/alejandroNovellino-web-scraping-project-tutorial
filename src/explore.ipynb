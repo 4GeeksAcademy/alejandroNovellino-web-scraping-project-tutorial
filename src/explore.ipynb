{
    "cells": [
        {
            "cell_type": "markdown",
            "metadata": {},
            "source": [
                "# Explore here\n",
                "\n",
                "It's recommended to use this notebook for exploration purposes."
            ]
        },
        {
            "cell_type": "code",
            "execution_count": 1,
            "metadata": {},
            "outputs": [],
            "source": [
                "import os\n",
                "from bs4 import BeautifulSoup\n",
                "import requests\n",
                "import time\n",
                "import sqlite3\n",
                "import matplotlib.pyplot as plt\n",
                "import seaborn as sns\n",
                "\n",
                "import pandas as pd"
            ]
        },
        {
            "cell_type": "code",
            "execution_count": 2,
            "metadata": {},
            "outputs": [],
            "source": [
                "# import the elements from app.py\n",
                "from app import get_data_from_url, get_soup_from_html, get_n_table_from_soup, get_html_as_list, save_df_to_db, get_df_from_db"
            ]
        },
        {
            "cell_type": "markdown",
            "metadata": {},
            "source": [
                "## Getting the data from the web"
            ]
        },
        {
            "cell_type": "code",
            "execution_count": 3,
            "metadata": {},
            "outputs": [],
            "source": [
                "# get the data\n",
                "data = ''\n",
                "try: \n",
                "    data = get_data_from_url(resource_url='https://companies-market-cap-copy.vercel.app/index.html')\n",
                "except:\n",
                "    print('The data could not been retrieve.')\n"
            ]
        },
        {
            "cell_type": "code",
            "execution_count": 4,
            "metadata": {},
            "outputs": [
                {
                    "name": "stdout",
                    "output_type": "stream",
                    "text": [
                        "\n",
                        "<!DOCTYPE html>\n",
                        "\n",
                        "<html lang=\"en-US\">\n",
                        "<head>\n",
                        "<title>Tesla (TSLA) - Revenue</title>\n",
                        "<meta charset=\"utf-8\"/>\n",
                        "<link href=\"https://companiesmarketcap.com/favicon.ico\" rel=\"shortcut icon\" type=\"image/x-icon\"/>\n",
                        "<link href=\"/img/icons/apple-icon-57x57.png\" rel=\"apple-touch-icon\" sizes=\"57x57\"/>\n",
                        "<link href=\"/img/icons/apple-icon-60x60.png\" rel=\"apple-touch-icon\" sizes=\"60x60\"/>\n",
                        "<link href=\"/img/icons/apple-icon-72x72.png\" rel=\"apple-touch-icon\" sizes=\"72x72\"/>\n",
                        "<link href=\"/img/icons/apple-icon-76x76.png\" rel=\"apple-touch-icon\" sizes=\"76x76\"/>\n",
                        "<link href=\"/img/icons/apple-icon-114x114.png\" rel=\"apple-touch-icon\" sizes=\"114x114\"/>\n",
                        "<link href=\"/img/icons/apple-icon-120x120.png\" rel=\"apple-touch-icon\" sizes=\"120x120\"/>\n",
                        "<link href=\"/img/icons/apple-icon-144x144.png\" rel=\"apple-touch-icon\" sizes=\"144x144\"/>\n",
                        "<link href=\"/img/icons/apple-icon-152x152.png\" rel=\"apple-touch-icon\" sizes=\"152x152\"/>\n",
                        "<link href=\"/img/icons/apple-icon-180x180.png\" rel=\"apple-touch-icon\" sizes=\"180x180\"/>\n",
                        "<link href=\"/img/icons/android-icon-192x192.png\" rel=\"icon\" sizes=\"192x192\" type=\"image/png\"/>\n",
                        "<link href=\"/img/icons/favicon-32x32.png\" rel=\"icon\" sizes=\"32x32\" type=\"image/png\"/>\n",
                        "<link href=\"/img/icons/favicon-96x96.png\" rel=\"icon\" sizes=\"96x96\" type=\"image/png\"/>\n",
                        "<link href=\"/img/icons/favicon-16x16.png\" rel=\"icon\" sizes=\"16x16\" type=\"image/png\"/>\n",
                        "<link href=\"/img/icons/manifest.json\" rel=\"manifest\"/>\n",
                        "<link href=\"https://companiesmarketcap.com/de/tesla/umsatz/\" hreflang=\"de\" rel=\"alternate\">\n",
                        "<link href=\"https://companiesmarketcap.com/fr/tesla/revenu/\" hreflang=\"fr\" rel=\"alternate\">\n",
                        "<link href=\"https://companiesmarketcap.com/tesla/revenue/\" hreflang=\"en-US\" rel=\"alternate\">\n",
                        "<link href=\"https://companiesmarketcap.com/eur/tesla/revenue/\" hreflang=\"en-IE\" rel=\"alternate\">\n",
                        "<link href=\"https://companiesmarketcap.com/inr/tesla/revenue/\" hreflang=\"en-IN\" rel=\"alternate\">\n",
                        "<link href=\"https://companiesmarketcap.com/gbp/tesla/revenue/\" hreflang=\"en-GB\" rel=\"alternate\">\n",
                        "<link href=\"https://companiesmarketcap.com/cad/tesla/revenue/\" hreflang=\"en-CA\" rel=\"alternate\">\n",
                        "<link href=\"https://companiesmarketcap.com/aud/tesla/revenue/\" hreflang=\"en-AU\" rel=\"alternate\">\n",
                        "<link href=\"https://companiesmarketcap.com/nzd/tesla/revenue/\" hreflang=\"en-NZ\" rel=\"alternate\">\n",
                        "<link href=\"https://companiesmarketcap.com/hkd/tesla/revenue/\" hreflang=\"en-HK\" rel=\"alternate\">\n",
                        "<link href=\"https://companiesmarketcap.com/sgd/tesla/revenue/\" hreflang=\"en-SG\" rel=\"alternate\">\n",
                        "<link href=\"https://companiesmarketcap.com/tesla/revenue/\" rel=\"canonical\">\n",
                        "<link crossorigin=\"anonymous\" href=\"https://cdnjs.cloudflare.com/ajax/libs/font-awesome/6.7.2/css/all.min.css\" integrity=\"sha512-Evv84Mr4kqVGRNSgIGL/F/aIDqQb7xQ2vcrdIwxfjThSH8CSR7PBEakCr51Ck+w+/U6swU2Im1vVX0SVk9ABhg==\" referrerpolicy=\"no-referrer\" rel=\"stylesheet\">\n",
                        "<meta content=\"https://companiesmarketcap.com/tesla/revenue/\" property=\"og:url\"/>\n",
                        "<meta content=\"INDEX,FOLLOW\" name=\"robots\"/>\n",
                        "<meta content=\"#ffffff\" name=\"msapplication-TileColor\"/>\n",
                        "<meta content=\"/img/icons/ms-icon-144x144.png\" name=\"msapplication-TileImage\"/>\n",
                        "<meta content=\"#ffffff\" name=\"theme-color\"/>\n",
                        "<meta content=\"width=device-width, initial-scale=1.0\" name=\"viewport\"/>\n",
                        "<meta content=\"en-US\" http-equiv=\"content-language\"/>\n",
                        "<meta content=\"Tesla (TSLA) - Revenue\" property=\"og:title\"/>\n",
                        "<meta content=\"website\" property=\"og:type\">\n",
                        "<meta content=\"Current and historical revenue charts for Tesla. As of January 2025 Tesla's TTM revenue is of $97.15 Billion USD\" property=\"og:description\"/>\n",
                        "<meta content=\"https://companiesmarketcap.com/logo.png\" property=\"og:image\"/>\n",
                        "<meta content=\"Current and historical revenue charts for Tesla. As of January 2025 Tesla's TTM revenue is of $97.15 Billion USD\" name=\"description\"/>\n",
                        "<link href=\"./r-bt-replacement.css\" rel=\"stylesheet\" type=\"text/css\"/>\n",
                        "<link href=\"./r-style.css\" rel=\"stylesheet\" type=\"text/css\"/>\n",
                        "<script>\n",
                        "current_locale = \"usd\";\n",
                        "current_locale_path = \"\";\n",
                        "\n",
                        "current_marketcap_path = \"marketcap\";\n",
                        "</script>\n",
                        "<script async=\"\" src=\"https://cdn.fuseplatform.net/publift/tags/2/3432/fuse.js\"></script></meta></link></link></link></link></link></link></link></link></link></link></link></link></link></head>\n",
                        "<body class=\"cmkt\" id=\"cmkt\">\n",
                        "<div class=\"row site-header-row\">\n",
                        "<div class=\"site-header\">\n",
                        "<span style=\"display: inline-flex; margin-top: 2px;\">\n",
                        "<span class=\"max-width-720px-hidden\">\n",
                        "                        Companies: <span class=\"font-weight-bold\">10,443</span>    \n",
                        "                        total market cap: <span class=\"font-weight-bold\">$110.913 T</span>\n",
                        "</span>\n",
                        "</span>\n",
                        "</div>\n",
                        "</div>\n",
                        "<nav class=\"navbar nav-bar-companiesmarketcap navbar-expand-lg navbar-light\">\n",
                        "<div class=\"navbar-collapse-container\">\n",
                        "<button aria-controls=\"navbarSupportedContent\" aria-expanded=\"false\" aria-label=\"Toggle navigation\" class=\"navbar-toggler\" data-target=\"#navbarSupportedContent\" data-toggle=\"collapse\" type=\"button\">\n",
                        "<span class=\"navbar-toggler-icon\"></span>\n",
                        "</button>\n",
                        "<form class=\"search-form form-inline\">\n",
                        "<input aria-label=\"Company name, ticker...\" autocomplete=\"off\" class=\"form-control search-input\" id=\"search-input\" placeholder=\"Company name, ticker...\" type=\"search\"/>\n",
                        "<button class=\"btn-search\" disabled=\"\" onclick=\"return false;\" type=\"submit\"><svg height=\"18\" viewbox=\"0 0 14 14\" width=\"18\" xmlns=\"http://www.w3.org/2000/svg\"><g fill=\"none\" stroke=\"#6c6c6c\" stroke-width=\"2\"><path d=\"M11.29 11.71l-4-4\"></path><circle cx=\"5\" cy=\"5\" r=\"4\"></circle></g></svg></button>\n",
                        "<div class=\"typeahead-search-results\" id=\"typeahead-search-results\"></div>\n",
                        "</form>\n",
                        "<div class=\"collapse navbar-collapse\" id=\"navbarSupportedContent\">\n",
                        "<a class=\"responsive-hidden\" href=\"/\" style=\"pointer-events: none\" title=\"CompaniesMarketCap.com - companies ranked by market capitalization\">\n",
                        "<div class=\"companiesmarketcap-logo\"></div>\n",
                        "</a>\n",
                        "<ul class=\"navbar-nav\">\n",
                        "<li class=\"nav-item\">\n",
                        "<a class=\"nav-link nav-link-companiesmarketcap\" href=\"/\" style=\"pointer-events: none\">Global ranking</a>\n",
                        "</li>\n",
                        "<li class=\"nav-item dropdown megamenu-li\">\n",
                        "<a aria-expanded=\"false\" aria-haspopup=\"true\" class=\"nav-link nav-link-companiesmarketcap dropdown-toggle\" data-toggle=\"dropdown\" href=\"#\" id=\"dropdown-countries\" style=\"pointer-events: none\">Ranking by countries</a>\n",
                        "</li></ul></div>\n",
                        "\n",
                        "<li class=\"nav-item dropdown megamenu-li max-width-650px-shown\">\n",
                        "<a class=\"nav-link nav-link-companiesmarketcap\" href=\"/watchlist/\" style=\"pointer-events: none;\"><img alt=\"favorite icon\" class=\"fav-icon dark-shown\" src=\"/img/fav.svg?v=3\"/><img alt=\"favorite icon\" class=\"fav-icon dark-hidden\" src=\"/img/fav4.svg?v=3\"/> Watchlist</a>\n",
                        "<a class=\"nav-link nav-link-companiesmarketcap\" href=\"/account/\" style=\"pointer-events: none;\"><img alt=\"favorite icon\" class=\"account-icon dark-shown\" src=\"/img/account.svg?v=3\"/><img alt=\"favorite icon\" class=\"account-icon dark-hidden\" src=\"/img/account4.svg?v=3\"/> Account</a>\n",
                        "\n",
                        " </li></div>\n",
                        "\n",
                        "</nav>\n",
                        "<div style=\"background-color: #e98383; padding: 20px; border: 1px solid #ccc; font-family: Arial, sans-serif; font-size: 14px; color: #333;\">\n",
                        "<strong>Descargo de Responsabilidad</strong><br/>\n",
                        "  Esta página ha sido copiada de <a href=\"https://companiesmarketcap.com/tesla/revenue\" style=\"color: #0066cc; text-decoration: none;\" target=\"_blank\">\"Companies Market Cap\"</a> con fines educativos. Todos los derechos de autor y otros derechos relacionados con el contenido original pertenecen a sus respectivos autores. Esta copia se ha realizado únicamente para fines de aprendizaje. Si eres el propietario del contenido y deseas que se retire, por favor contáctanos.\n",
                        "</div>\n",
                        "<div align=\"center\">\n",
                        "<div style=\"min-height:90px;\"><div data-fuse=\"23022329499\"></div> <div class=\"recoverub-container hidden\"></div> </div></div>\n",
                        "<div class=\"table-container\">\n",
                        "<div class=\"row\">\n",
                        "<div class=\"col-lg-2\">\n",
                        "<div class=\"company-logo-container\">\n",
                        "<img alt=\"Tesla Logo\" class=\"company-profile-logo\" data-img-dark-path=\"./assets/img/teslalogo.png\" data-img-path=\"./assets/img/pngegg.png\" loading=\"lazy\" src=\"https://pngimg.com/uploads/tesla_logo/tesla_logo_PNG14.png\" title=\"Tesla Logo\"/> </div>\n",
                        "<div class=\"company-title-container\">\n",
                        "<div class=\"company-code\">TSLA</div>\n",
                        "</div>\n",
                        "</div>\n",
                        "<div class=\"col-lg-6\">\n",
                        "<div class=\"row\">\n",
                        "<div class=\"info-box\"><div class=\"line1\">#8</div><div class=\"line2\">Rank</div></div>\n",
                        "<div class=\"info-box\"><div class=\"line1\">$1.294 T</div><div class=\"line2\">Marketcap</div></div>\n",
                        "<div class=\"info-box\"><div class=\"line1\"><a href=\"/usa/largest-companies-in-the-usa-by-market-cap/\"><span class=\"responsive-hidden\"> United States</span></a></div><div class=\"line2\">Country</div></div>\n",
                        "</div>\n",
                        "<div class=\"row\">\n",
                        "<div class=\"info-box\"><div class=\"line1\">$403.31</div><div class=\"line2\">Share price</div></div>\n",
                        "<div class=\"info-box\"><div class=\"line1\"><span class=\"percentage-green\">2.17%</span></div><div class=\"line2\">Change (1 day)</div></div>\n",
                        "<div class=\"info-box\"><div class=\"line1\"><span class=\"percentage-green\">83.40%</span></div><div class=\"line2\">Change (1 year)</div></div>\n",
                        "</div>\n",
                        "<div class=\"info-box categories-box\">\n",
                        "<div class=\"line1\">\n",
                        "<a class=\"badge badge-light category-badge\" href=\"/automakers/largest-automakers-by-market-cap/\" style=\"pointer-events: none\">🚗 Automakers</a><a class=\"badge badge-light category-badge\" href=\"/tech/largest-tech-companies-by-market-cap/\" style=\"pointer-events: none\">👩‍💻 Tech</a><a class=\"badge badge-light category-badge\" href=\"/electric-vehicles/largest-ev-companies-by-market-cap/\" style=\"pointer-events: none\">🔋 Electric Vehicles</a><a class=\"badge badge-light category-badge\" href=\"/bitcoin/largest-companies-by-market-cap/\" style=\"pointer-events: none\"> ₿ Bitcoin</a><a class=\"badge badge-light category-badge\" href=\"/manufacturing/largest-manufacturing-companies-by-market-cap/\" style=\"pointer-events: none\"> 🏭 Manufacturing</a><a class=\"badge badge-light category-badge\" href=\"/ev-charging/largest-ev-charging-companies-by-market-cap/\" style=\"pointer-events: none\">🔌​ EV charging</a><a class=\"badge badge-light category-badge\" href=\"/autonomous-driving/largest-autonomous-driving-companies-by-market-cap/\" style=\"pointer-events: none\">🤖 Autonomous driving</a><a class=\"badge badge-light category-badge\" href=\"/artificial-intelligence/largest-ai-companies-by-marketcap/\" style=\"pointer-events: none\">🦾 AI</a></div>\n",
                        "<div class=\"line2\">Categories</div>\n",
                        "</div>\n",
                        "</div>\n",
                        "<div class=\"col-lg-4 company-description\">\n",
                        "<p>Tesla, Inc. is an American company that manufactures and sells electric cars, as well as power storage and photovoltaic systems. The company's goal is to “accelerate the transition to sustainable energy”. The company name is based on the physicist and inventor Nikola Tesla.</p> </div>\n",
                        "</div>\n",
                        "<ul class=\"profile-nav nav nav-tabs mt-4\">\n",
                        "<li class=\"nav-item\"> <a class=\"nav-link\" href=\"/tesla/marketcap/\" style=\"pointer-events: none\">Market cap</a> </li> <li class=\"nav-item\"> <a class=\"nav-link active\" href=\"/tesla/revenue/\">Revenue</a> </li> <li class=\"nav-item\"> <a class=\"nav-link\" href=\"earnings.html\">Earnings</a> </li> <li class=\"nav-item\"> <a class=\"nav-link tab-medium-hide\" href=\"/tesla/stock-price-history/\" style=\"pointer-events: none\">Price history</a> </li> <li class=\"nav-item\"> <a class=\"nav-link tab-medium-hide\" href=\"/tesla/pe-ratio/\" style=\"pointer-events: none\">P/E ratio</a> </li> <li class=\"nav-item\"> <a class=\"nav-link tab-medium-hide\" href=\"/tesla/ps-ratio/\" style=\"pointer-events: none\">P/S ratio</a> </li> <li class=\"nav-item dropdown position-relative\">\n",
                        "<a aria-expanded=\"false\" aria-haspopup=\"true\" class=\"nav-link dropdown-toggle\" data-toggle=\"dropdown\" href=\"#\" role=\"button\" style=\"pointer-events: none\">More</a>\n",
                        "<div class=\"dropdown-menu profile-dropdown\">\n",
                        "<a class=\"dropdown-item tab-medium-show\" href=\"/tesla/stock-price-history/\">Price history</a>\n",
                        "<a class=\"dropdown-item tab-medium-show\" href=\"/tesla/pe-ratio/\" style=\"pointer-events: none\">P/E ratio</a>\n",
                        "<a class=\"dropdown-item tab-medium-show\" href=\"/tesla/ps-ratio/\" style=\"pointer-events: none\">P/S ratio</a>\n",
                        "<a class=\"dropdown-item\" href=\"/tesla/pb-ratio/\" style=\"pointer-events: none\">P/B ratio</a>\n",
                        "<a class=\"dropdown-item\" href=\"/tesla/operating-margin/\" style=\"pointer-events: none\">Operating margin</a>\n",
                        "<a class=\"dropdown-item\" href=\"/tesla/eps/\" style=\"pointer-events: none\">EPS</a>\n",
                        "<a class=\"dropdown-item\" href=\"/tesla/stock-splits/\" style=\"pointer-events: none\">Stock Splits</a>\n",
                        "<a class=\"dropdown-item\" href=\"/tesla/shares-outstanding/\" style=\"pointer-events: none\">Shares outstanding</a>\n",
                        "<a class=\"dropdown-item\" href=\"/tesla/failure-to-deliver/\" style=\"pointer-events: none\">Fails to deliver</a>\n",
                        "<a class=\"dropdown-item\" href=\"/tesla/cost-to-borrow/\" style=\"pointer-events: none\">Cost to borrow</a>\n",
                        "<a class=\"dropdown-item\" href=\"/tesla/total-assets/\" style=\"pointer-events: none\">Total assets</a>\n",
                        "<a class=\"dropdown-item\" href=\"/tesla/total-liabilities/\" style=\"pointer-events: none\">Total liabilities</a>\n",
                        "<a class=\"dropdown-item\" href=\"/tesla/total-debt/\" style=\"pointer-events: none\">Total debt</a>\n",
                        "<a class=\"dropdown-item\" href=\"/tesla/cash-on-hand/\" style=\"pointer-events: none\">Cash on Hand</a>\n",
                        "<a class=\"dropdown-item\" href=\"/tesla/net-assets/\" style=\"pointer-events: none\">Net Assets</a> </div>\n",
                        "</li>\n",
                        "</ul>\n",
                        "<div class=\"profile-container pt-3\">\n",
                        "<h1>Revenue for Tesla (TSLA)</h1>\n",
                        "<h2><strong>Revenue in 2024 (TTM): <span class=\"background-ya\">$97.15 Billion USD</span></strong></h2>\n",
                        "<p class=\"mt-2\">\n",
                        "According to <strong>Tesla</strong>'s latest financial reports the company's current revenue (TTM <img class=\"in-text-tooltip ttm-dates-info-icon info-icon tooltip-title responsive-hidden\" src=\"/img/info-icon-grey.svg\" tooltip-title=\"2 Oct 2023 - 30 Sep 2024\"/>) is <strong>$97.15 Billion USD</strong>. In 2023 the company made a revenue of <strong>$96.77 Billion USD</strong> an increase over the revenue in the year 2022 that were of <strong>$81.46 Billion USD</strong>. The revenue is the total amount of income that a company generates by the sale of goods or services. Unlike with the <a href=\"earnings.html\">earnings</a> no expenses are subtracted. \t</p>\n",
                        "<div align=\"center\" style=\"margin-bottom: 10px;margin-top: 10px;\"><!-- GAM 71161633/JWSRV_companiesmarketcap/comp_incontent_1 -->\n",
                        "</div>\n",
                        "<h3>Annual revenue</h3>\n",
                        "<div style=\"overflow-y: scroll;\">\n",
                        "<table class=\"table\" style=\"width:100%\">\n",
                        "<thead>\n",
                        "<tr>\n",
                        "<th>Year</th>\n",
                        "<th>Revenue</th>\n",
                        "<th>Change</th>\n",
                        "</tr>\n",
                        "</thead>\n",
                        "<tbody>\n",
                        "<tr><td><span class=\"year\">2024</span></td><td>$97.15 B</td><td class=\"percentage-green\">0.39%</td></tr><tr><td><span class=\"year\">2023</span> </td><td>$96.77 B</td><td class=\"percentage-green\">18.8%</td></tr><tr><td><span class=\"year\">2022</span></td><td>$81.46 B</td><td class=\"percentage-green\">51.35%</td></tr><tr><td><span class=\"year\">2021</span></td><td>$53.82 B</td><td class=\"percentage-green\">70.67%</td></tr><tr><td><span class=\"year\">2020</span></td><td>$31.53 B</td><td class=\"percentage-green\">28.31%</td></tr><tr><td><span class=\"year\">2019</span></td><td>$24.57 B</td><td class=\"percentage-green\">14.52%</td></tr><tr><td><span class=\"year\">2018</span></td><td>$21.46 B</td><td class=\"percentage-green\">82.51%</td></tr><tr><td><span class=\"year\">2017</span></td><td>$11.75 B</td><td class=\"percentage-green\">67.98%</td></tr><tr><td><span class=\"year\">2016</span></td><td>$7.00 B</td><td class=\"percentage-green\">73.01%</td></tr><tr><td><span class=\"year\">2015</span></td><td>$4.04 B</td><td class=\"percentage-green\">26.5%</td></tr><tr><td><span class=\"year\">2014</span></td><td>$3.19 B</td><td class=\"percentage-green\">58.85%</td></tr><tr><td><span class=\"year\">2013</span></td><td>$2.01 B</td><td class=\"percentage-green\">387.23%</td></tr><tr><td><span class=\"year\">2012</span></td><td>$0.41 B</td><td class=\"percentage-green\">102.34%</td></tr><tr><td><span class=\"year\">2011</span></td><td>$0.20 B</td><td class=\"percentage-green\">74.95%</td></tr><tr><td><span class=\"year\">2010</span></td><td>$0.11 B</td><td class=\"percentage-green\">4.29%</td></tr><tr><td><span class=\"year\">2009</span> </td><td>$0.11 B</td><td></td></tr> </tbody>\n",
                        "</table>\n",
                        "</div>\n",
                        "<div align=\"center\" style=\"margin-bottom: 10px;margin-top: 10px;\"><!-- GAM 71161633/JWSRV_companiesmarketcap/comp_incontent_1 -->\n",
                        "<div data-fuse=\"23022329508\"></div></div><h3>Revenue for similar companies or competitors</h3><div style=\"overflow-y: scroll;\"> <table class=\"table w-100\"> <thead> <tr> <th>Company</th> <th>Revenue</th> <th>Revenue <span class=\"responsive-hidden\">difference</span><span class=\"responsive-shown\">diff.</span></th> <th>Country</th> </tr> </thead> <tbody><tr><td class=\"name-td\"><a href=\"/apple/revenue/\" style=\"pointer-events: none;\"><div class=\"float-left pt-1\"></div><div class=\"name-div\"><div class=\"company-name\">Apple</div><div class=\"company-code\"><span class=\"rank d-none\"></span>AAPL</div></div></a></td></tr></tbody></table></div><td>$391.03 B</td><td><span class=\"percentage-green\"> 302.51%</span></td><td> <span class=\"responsive-hidden\">USA</span></td><tr><td class=\"name-td\"><a href=\"/rivian/revenue/\"><div class=\"float-left pt-1\"> </div><div class=\"name-div\"><div class=\"company-name\">Rivian</div><div class=\"company-code\"><span class=\"rank d-none\"></span>RIVN</div></div></a></td></tr></div><td>$4.55 B</td><td><span class=\"percentage-red\">-95.32%</span></td><td> <span class=\"responsive-hidden\">USA</span></td><tr><td class=\"name-td\"><a href=\"/lucid-motors/revenue/\"><div class=\"float-left pt-1\"></div><div class=\"name-div\"><div class=\"company-name\">Lucid Motors</div><div class=\"company-code\"><span class=\"rank d-none\"></span>LCID</div></div></a></td></tr></div><td>$0.73 B</td><td><span class=\"percentage-red\">-99.25%</span></td><td> <span class=\"responsive-hidden\">USA</span></td><tr><td class=\"name-td\"><a href=\"/nio/revenue/\"><div class=\"float-left pt-1\"></div><div class=\"name-div\"><div class=\"company-name\">NIO</div><div class=\"company-code\"><span class=\"rank d-none\"></span>NIO</div></div></a></td><td>$8.85 B</td><td><span class=\"percentage-red\">-90.88%</span></td><td> <span class=\"responsive-hidden\">China</span></td></tr>  \n",
                        "\n",
                        "<script src=\"/js/chart1.js?v=37\"></script>\n",
                        "<script type=\"text/javascript\">\n",
                        "data = {\"2024\":97150000000,\"2023\":96773000000,\"2022\":81462000000,\"2021\":53823000000,\"2020\":31536000000,\"2019\":24578000000,\"2018\":21460855000,\"2017\":11758751000,\"2016\":7000132000,\"2015\":4046025000,\"2014\":3198356000,\"2013\":2013496000,\"2012\":413256000,\"2011\":204242000,\"2010\":116744000,\"2009\":111943000};\n",
                        "var chart1 = new CmcChart();\n",
                        "chart1.dateFormat = 'y';\n",
                        "chart1.currencySymbol = '$';\n",
                        "chart1.loadChart(document.getElementById('marketcapchart'), data);\n",
                        "</script>\n",
                        "\n",
                        "<div align=\"center\" style=\"margin-top: 10px;\">\n",
                        "<!-- GAM 71161633/JWSRV_companiesmarketcap/home_incontent_4 -->\n",
                        "<div data-fuse=\"23022329505\"></div></div>\n",
                        "<div class=\"footer-container\">\n",
                        "<div class=\"footer-section\">\n",
                        "<div class=\"footer row\">\n",
                        "<div class=\"col-sm-6\">\n",
                        "<h4><a href=\"/lexicon/market-cap-of-a-company/\">What is the market capitalization of a company?</a></h4>\n",
                        "<p>The market capitalization sometimes referred as Marketcap, is the value of a publicly listed company. <br>\n",
                        "\t\t\t\tIn most cases it can be easily calculated by multiplying the share price with the amount of outstanding shares. </br></p>\n",
                        "<h4>DISCLAIMER</h4>\n",
                        "<p>\n",
                        "                                CompaniesMarketCap is not associated in any way with CoinMarketCap.com<br/>\n",
                        "\t\t\t\tStock prices are delayed, the delay can range from a few minutes to several hours. <br/>\n",
                        "\t\t\t\tCompany logos are from the <a class=\"text-underline\" href=\"https://companieslogo.com\" style=\"pointer-events: none\">CompaniesLogo.com logo database</a> and belong to their respective copyright holders. Companies Marketcap displays them for editorial purposes only. </p>\n",
                        "</div>\n",
                        "<div class=\"col-sm-6\">\n",
                        "<h4>Contact</h4>\n",
                        "                                For inquiries or if you want to report a problem write to <span class=\"contact-email\">hel<span class=\"hidden\">nospam</span>lo@8market<span class=\"hidden\">(nospam)</span>cap.com</span> <br/>\n",
                        "<br/>\n",
                        "<h4>Links</h4>\n",
                        "<p>- <a class=\"text-underline\" href=\"/privacy/\" style=\"pointer-events: none\">Privacy policy</a></p>\n",
                        "<p>- <a class=\"text-underline\" href=\"/terms-of-service/\" style=\"pointer-events: none\">Terms and conditions</a></p>\n",
                        "<p class=\"social-media-icons\"><a href=\"https://www.facebook.com/CompaniesMarketCap/\" title=\"Companies Market Cap Facebook page\">\n",
                        "<svg height=\"20\" viewbox=\"0 0 155 155\" width=\"20\" xmlns=\"http://www.w3.org/2000/svg\">\n",
                        "<path d=\"M89.584,155.139V84.378h23.742l3.562-27.585H89.584V39.184 c0-7.984,2.208-13.425,13.67-13.425l14.595-0.006V1.08C115.325,0.752,106.661,0,96.577,0C75.52,0,61.104,12.853,61.104,36.452 v20.341H37.29v27.585h23.814v70.761H89.584z\"></path>\n",
                        "</svg></a>\n",
                        "<a href=\"https://twitter.com/CompaniesMarke1\" style=\"pointer-events: none\" title=\"Companies Market Cap Twitter account\">\n",
                        "<svg height=\"20\" viewbox=\"80 75 250 250\" width=\"20\" xmlns=\"http://www.w3.org/2000/svg\"><rect fill=\"none\" height=\"30\" width=\"30\"></rect><path d=\"M153.62,301.59c94.34,0,145.94-78.16,145.94-145.94,0-2.22,0-4.43-.15-6.63A104.36,104.36,0,0,0,325,122.47a102.38,102.38,0,0,1-29.46,8.07,51.47,51.47,0,0,0,22.55-28.37,102.79,102.79,0,0,1-32.57,12.45,51.34,51.34,0,0,0-87.41,46.78A145.62,145.62,0,0,1,92.4,107.81a51.33,51.33,0,0,0,15.88,68.47A50.91,50.91,0,0,1,85,169.86c0,.21,0,.43,0,.65a51.31,51.31,0,0,0,41.15,50.28,51.21,51.21,0,0,1-23.16.88,51.35,51.35,0,0,0,47.92,35.62,102.92,102.92,0,0,1-63.7,22A104.41,104.41,0,0,1,75,278.55a145.21,145.21,0,0,0,78.62,23\"></path></svg></a>\n",
                        "</p>\n",
                        "<p>\n",
                        "                                © 2024 CompaniesMarketcap.com\n",
                        "                                </p>\n",
                        "</div>\n",
                        "</div>\n",
                        "</div>\n",
                        "</div>\n",
                        "<script src=\"/js/script.js?v=80\"></script>\n",
                        "<div class=\"popup-container hidden\" id=\"popup-container\"></div>\n",
                        "<script src=\"/js/account.js?v21\"></script><script src=\"/clever_ads.js\"></script>\n",
                        "<script>\n",
                        "\n",
                        "ubRecovered = false;\n",
                        "\n",
                        "\n",
                        "(function detectUB(callback) {\n",
                        "  var flaggedURL = 'https://static.getclicky.com/js';\n",
                        "\n",
                        "        var request = new Request(flaggedURL, {\n",
                        "        method: 'GET',\n",
                        "        mode: 'no-cors',\n",
                        "        });\n",
                        "        fetch(request)\n",
                        "        .then(function(response) {\n",
                        "        if (response.status === 200 ) {\n",
                        "                callback(false);\n",
                        "        }\n",
                        "        })\n",
                        "        .catch(function(error) {\n",
                        "                callback(true);\n",
                        "        });\n",
                        "        })(function(usingAdblock) {\n",
                        "                if(usingAdblock) {\n",
                        "                        ub0802dwds = 2;\n",
                        "                        recoveUB();\n",
                        "                        console.log('using adblock');\n",
                        "                }\n",
                        "        })\n",
                        "\n",
                        "\tfunction ae6dd7anadbac(siteID) {\n",
                        "\t\tvar uuid = '';\n",
                        "\t\ttry {\n",
                        "\t\t\tif(localStorage.getItem(\"UUID-ae6dd7anadbac\") == undefined) {\n",
                        "\t\t\t\tlocalStorage.setItem(\"UUID-ae6dd7anadbac\", window.crypto.randomUUID());\n",
                        "\t\t\t}\n",
                        "\n",
                        "\t\t\tuuid = localStorage.getItem(\"UUID-ae6dd7anadbac\");\n",
                        "\t\t} catch(error) {}\n",
                        "\n",
                        "\t\tvar timeOffset = '';\n",
                        "\t\ttry {\n",
                        "\t\t\ttimeOffset = new Date().getTimezoneOffset()\n",
                        "\t\t} catch(error) {}\n",
                        "\n",
                        "\t\tvar userLang = ''; \n",
                        "\t\ttry {\n",
                        "\t\t\tuserLang = navigator.language || navigator.userLanguage; \n",
                        "\t\t} catch(error) {}\n",
                        "\n",
                        "\t\tvar payload = {\n",
                        "\t\t\t\"siteID\" : siteID,\n",
                        "\t\t\t\"uuid\" : uuid,\n",
                        "\t\t\t\"referrer\" : document.referrer,\n",
                        "\t\t\t\"url\" : window.location.href,\n",
                        "\t\t\t\"screen_height\": window.screen.height,\n",
                        "\t\t\t\"screen_width\": window.screen.width,\n",
                        "\t\t\t\"timeOffset\": timeOffset,\n",
                        "\t\t\t\"userLang\": userLang,\n",
                        "\t\t\t\"blocker\" : ub0802dwds\n",
                        "\t\t};\n",
                        "\n",
                        "\t\tfetch(\"https://apewisdom.io/c/\", {\n",
                        "\t\t\tmethod: \"POST\",\n",
                        "\t\t\tbody: JSON.stringify(payload),\n",
                        "\t\t\theaders: {\n",
                        "\t\t\t\t\"Content-type\": \"application/json; charset=UTF-8\"\n",
                        "\t\t\t}\n",
                        "\t\t});\n",
                        "\t}\n",
                        "\n",
                        "\tsetTimeout(\"ae6dd7anadbac('CMC')\", 625);\n",
                        "</script>\n",
                        "<!-- generation time: 0.002126932144165 --></body>\n",
                        "</html>\n"
                    ]
                }
            ],
            "source": [
                "# transform the data to a Soup\n",
                "soup = get_soup_from_html(data)\n",
                "print(soup)"
            ]
        },
        {
            "cell_type": "code",
            "execution_count": 5,
            "metadata": {},
            "outputs": [],
            "source": [
                "# get the first and second tables from the soup\n",
                "table_0 = get_n_table_from_soup(soup, 0)\n",
                "table_1 = get_n_table_from_soup(soup, 1)"
            ]
        },
        {
            "cell_type": "code",
            "execution_count": 6,
            "metadata": {},
            "outputs": [
                {
                    "name": "stdout",
                    "output_type": "stream",
                    "text": [
                        "First table\n",
                        "<table class=\"table\" style=\"width:100%\">\n",
                        "<thead>\n",
                        "<tr>\n",
                        "<th>Year</th>\n",
                        "<th>Revenue</th>\n",
                        "<th>Change</th>\n",
                        "</tr>\n",
                        "</thead>\n",
                        "<tbody>\n",
                        "<tr><td><span class=\"year\">2024</span></td><td>$97.15 B</td><td class=\"percentage-green\">0.39%</td></tr><tr><td><span class=\"year\">2023</span> </td><td>$96.77 B</td><td class=\"percentage-green\">18.8%</td></tr><tr><td><span class=\"year\">2022</span></td><td>$81.46 B</td><td class=\"percentage-green\">51.35%</td></tr><tr><td><span class=\"year\">2021</span></td><td>$53.82 B</td><td class=\"percentage-green\">70.67%</td></tr><tr><td><span class=\"year\">2020</span></td><td>$31.53 B</td><td class=\"percentage-green\">28.31%</td></tr><tr><td><span class=\"year\">2019</span></td><td>$24.57 B</td><td class=\"percentage-green\">14.52%</td></tr><tr><td><span class=\"year\">2018</span></td><td>$21.46 B</td><td class=\"percentage-green\">82.51%</td></tr><tr><td><span class=\"year\">2017</span></td><td>$11.75 B</td><td class=\"percentage-green\">67.98%</td></tr><tr><td><span class=\"year\">2016</span></td><td>$7.00 B</td><td class=\"percentage-green\">73.01%</td></tr><tr><td><span class=\"year\">2015</span></td><td>$4.04 B</td><td class=\"percentage-green\">26.5%</td></tr><tr><td><span class=\"year\">2014</span></td><td>$3.19 B</td><td class=\"percentage-green\">58.85%</td></tr><tr><td><span class=\"year\">2013</span></td><td>$2.01 B</td><td class=\"percentage-green\">387.23%</td></tr><tr><td><span class=\"year\">2012</span></td><td>$0.41 B</td><td class=\"percentage-green\">102.34%</td></tr><tr><td><span class=\"year\">2011</span></td><td>$0.20 B</td><td class=\"percentage-green\">74.95%</td></tr><tr><td><span class=\"year\">2010</span></td><td>$0.11 B</td><td class=\"percentage-green\">4.29%</td></tr><tr><td><span class=\"year\">2009</span> </td><td>$0.11 B</td><td></td></tr> </tbody>\n",
                        "</table>\n"
                    ]
                }
            ],
            "source": [
                "print('First table')\n",
                "print(table_0)\n"
            ]
        },
        {
            "cell_type": "code",
            "execution_count": 7,
            "metadata": {},
            "outputs": [
                {
                    "name": "stdout",
                    "output_type": "stream",
                    "text": [
                        "Second table\n",
                        "<table class=\"table w-100\"> <thead> <tr> <th>Company</th> <th>Revenue</th> <th>Revenue <span class=\"responsive-hidden\">difference</span><span class=\"responsive-shown\">diff.</span></th> <th>Country</th> </tr> </thead> <tbody><tr><td class=\"name-td\"><a href=\"/apple/revenue/\" style=\"pointer-events: none;\"><div class=\"float-left pt-1\"></div><div class=\"name-div\"><div class=\"company-name\">Apple</div><div class=\"company-code\"><span class=\"rank d-none\"></span>AAPL</div></div></a></td></tr></tbody></table>\n"
                    ]
                }
            ],
            "source": [
                "print('Second table')\n",
                "print(table_1)"
            ]
        },
        {
            "cell_type": "markdown",
            "metadata": {},
            "source": [
                "We just need to work with the first table"
            ]
        },
        {
            "cell_type": "code",
            "execution_count": 8,
            "metadata": {},
            "outputs": [
                {
                    "name": "stdout",
                    "output_type": "stream",
                    "text": [
                        "[{'year': 2024, 'revenue': 97.15, 'change': 0.39}, {'year': 2023, 'revenue': 96.77, 'change': 18.8}, {'year': 2022, 'revenue': 81.46, 'change': 51.35}, {'year': 2021, 'revenue': 53.82, 'change': 70.67}, {'year': 2020, 'revenue': 31.53, 'change': 28.31}, {'year': 2019, 'revenue': 24.57, 'change': 14.52}, {'year': 2018, 'revenue': 21.46, 'change': 82.51}, {'year': 2017, 'revenue': 11.75, 'change': 67.98}, {'year': 2016, 'revenue': 7.0, 'change': 73.01}, {'year': 2015, 'revenue': 4.04, 'change': 26.5}, {'year': 2014, 'revenue': 3.19, 'change': 58.85}, {'year': 2013, 'revenue': 2.01, 'change': 387.23}, {'year': 2012, 'revenue': 0.41, 'change': 102.34}, {'year': 2011, 'revenue': 0.2, 'change': 74.95}, {'year': 2010, 'revenue': 0.11, 'change': 4.29}, {'year': 2009, 'revenue': 0.11, 'change': 0.0}]\n"
                    ]
                }
            ],
            "source": [
                "# get the data frm the first table as a dict\n",
                "data_as_dict = get_html_as_list(table_0)\n",
                "print(data_as_dict)"
            ]
        },
        {
            "cell_type": "markdown",
            "metadata": {},
            "source": [
                "## Data as dataframe"
            ]
        },
        {
            "cell_type": "code",
            "execution_count": 9,
            "metadata": {},
            "outputs": [
                {
                    "data": {
                        "text/html": [
                            "<div>\n",
                            "<style scoped>\n",
                            "    .dataframe tbody tr th:only-of-type {\n",
                            "        vertical-align: middle;\n",
                            "    }\n",
                            "\n",
                            "    .dataframe tbody tr th {\n",
                            "        vertical-align: top;\n",
                            "    }\n",
                            "\n",
                            "    .dataframe thead th {\n",
                            "        text-align: right;\n",
                            "    }\n",
                            "</style>\n",
                            "<table border=\"1\" class=\"dataframe\">\n",
                            "  <thead>\n",
                            "    <tr style=\"text-align: right;\">\n",
                            "      <th></th>\n",
                            "      <th>year</th>\n",
                            "      <th>revenue</th>\n",
                            "      <th>change</th>\n",
                            "    </tr>\n",
                            "  </thead>\n",
                            "  <tbody>\n",
                            "    <tr>\n",
                            "      <th>0</th>\n",
                            "      <td>2024</td>\n",
                            "      <td>97.15</td>\n",
                            "      <td>0.39</td>\n",
                            "    </tr>\n",
                            "    <tr>\n",
                            "      <th>1</th>\n",
                            "      <td>2023</td>\n",
                            "      <td>96.77</td>\n",
                            "      <td>18.80</td>\n",
                            "    </tr>\n",
                            "    <tr>\n",
                            "      <th>2</th>\n",
                            "      <td>2022</td>\n",
                            "      <td>81.46</td>\n",
                            "      <td>51.35</td>\n",
                            "    </tr>\n",
                            "    <tr>\n",
                            "      <th>3</th>\n",
                            "      <td>2021</td>\n",
                            "      <td>53.82</td>\n",
                            "      <td>70.67</td>\n",
                            "    </tr>\n",
                            "    <tr>\n",
                            "      <th>4</th>\n",
                            "      <td>2020</td>\n",
                            "      <td>31.53</td>\n",
                            "      <td>28.31</td>\n",
                            "    </tr>\n",
                            "    <tr>\n",
                            "      <th>5</th>\n",
                            "      <td>2019</td>\n",
                            "      <td>24.57</td>\n",
                            "      <td>14.52</td>\n",
                            "    </tr>\n",
                            "    <tr>\n",
                            "      <th>6</th>\n",
                            "      <td>2018</td>\n",
                            "      <td>21.46</td>\n",
                            "      <td>82.51</td>\n",
                            "    </tr>\n",
                            "    <tr>\n",
                            "      <th>7</th>\n",
                            "      <td>2017</td>\n",
                            "      <td>11.75</td>\n",
                            "      <td>67.98</td>\n",
                            "    </tr>\n",
                            "    <tr>\n",
                            "      <th>8</th>\n",
                            "      <td>2016</td>\n",
                            "      <td>7.00</td>\n",
                            "      <td>73.01</td>\n",
                            "    </tr>\n",
                            "    <tr>\n",
                            "      <th>9</th>\n",
                            "      <td>2015</td>\n",
                            "      <td>4.04</td>\n",
                            "      <td>26.50</td>\n",
                            "    </tr>\n",
                            "    <tr>\n",
                            "      <th>10</th>\n",
                            "      <td>2014</td>\n",
                            "      <td>3.19</td>\n",
                            "      <td>58.85</td>\n",
                            "    </tr>\n",
                            "    <tr>\n",
                            "      <th>11</th>\n",
                            "      <td>2013</td>\n",
                            "      <td>2.01</td>\n",
                            "      <td>387.23</td>\n",
                            "    </tr>\n",
                            "    <tr>\n",
                            "      <th>12</th>\n",
                            "      <td>2012</td>\n",
                            "      <td>0.41</td>\n",
                            "      <td>102.34</td>\n",
                            "    </tr>\n",
                            "    <tr>\n",
                            "      <th>13</th>\n",
                            "      <td>2011</td>\n",
                            "      <td>0.20</td>\n",
                            "      <td>74.95</td>\n",
                            "    </tr>\n",
                            "    <tr>\n",
                            "      <th>14</th>\n",
                            "      <td>2010</td>\n",
                            "      <td>0.11</td>\n",
                            "      <td>4.29</td>\n",
                            "    </tr>\n",
                            "    <tr>\n",
                            "      <th>15</th>\n",
                            "      <td>2009</td>\n",
                            "      <td>0.11</td>\n",
                            "      <td>0.00</td>\n",
                            "    </tr>\n",
                            "  </tbody>\n",
                            "</table>\n",
                            "</div>"
                        ],
                        "text/plain": [
                            "    year  revenue  change\n",
                            "0   2024    97.15    0.39\n",
                            "1   2023    96.77   18.80\n",
                            "2   2022    81.46   51.35\n",
                            "3   2021    53.82   70.67\n",
                            "4   2020    31.53   28.31\n",
                            "5   2019    24.57   14.52\n",
                            "6   2018    21.46   82.51\n",
                            "7   2017    11.75   67.98\n",
                            "8   2016     7.00   73.01\n",
                            "9   2015     4.04   26.50\n",
                            "10  2014     3.19   58.85\n",
                            "11  2013     2.01  387.23\n",
                            "12  2012     0.41  102.34\n",
                            "13  2011     0.20   74.95\n",
                            "14  2010     0.11    4.29\n",
                            "15  2009     0.11    0.00"
                        ]
                    },
                    "execution_count": 9,
                    "metadata": {},
                    "output_type": "execute_result"
                }
            ],
            "source": [
                "# transform the list to a DataFrame\n",
                "df = pd.DataFrame(data_as_dict)\n",
                "df"
            ]
        },
        {
            "cell_type": "markdown",
            "metadata": {},
            "source": [
                "## Save to DB"
            ]
        },
        {
            "cell_type": "code",
            "execution_count": 10,
            "metadata": {},
            "outputs": [],
            "source": [
                "# set a database name\n",
                "db_name = 'my_db'\n",
                "table_name = 'annual_revenue'"
            ]
        },
        {
            "cell_type": "code",
            "execution_count": 11,
            "metadata": {},
            "outputs": [],
            "source": [
                "# save the df to the database\n",
                "save_df_to_db(df=df, db_name=db_name, table_name=table_name)"
            ]
        },
        {
            "cell_type": "code",
            "execution_count": 12,
            "metadata": {},
            "outputs": [
                {
                    "data": {
                        "text/html": [
                            "<div>\n",
                            "<style scoped>\n",
                            "    .dataframe tbody tr th:only-of-type {\n",
                            "        vertical-align: middle;\n",
                            "    }\n",
                            "\n",
                            "    .dataframe tbody tr th {\n",
                            "        vertical-align: top;\n",
                            "    }\n",
                            "\n",
                            "    .dataframe thead th {\n",
                            "        text-align: right;\n",
                            "    }\n",
                            "</style>\n",
                            "<table border=\"1\" class=\"dataframe\">\n",
                            "  <thead>\n",
                            "    <tr style=\"text-align: right;\">\n",
                            "      <th></th>\n",
                            "      <th>year</th>\n",
                            "      <th>revenue</th>\n",
                            "      <th>change</th>\n",
                            "    </tr>\n",
                            "  </thead>\n",
                            "  <tbody>\n",
                            "    <tr>\n",
                            "      <th>0</th>\n",
                            "      <td>2024</td>\n",
                            "      <td>97.15</td>\n",
                            "      <td>0.39</td>\n",
                            "    </tr>\n",
                            "    <tr>\n",
                            "      <th>1</th>\n",
                            "      <td>2023</td>\n",
                            "      <td>96.77</td>\n",
                            "      <td>18.80</td>\n",
                            "    </tr>\n",
                            "    <tr>\n",
                            "      <th>2</th>\n",
                            "      <td>2022</td>\n",
                            "      <td>81.46</td>\n",
                            "      <td>51.35</td>\n",
                            "    </tr>\n",
                            "    <tr>\n",
                            "      <th>3</th>\n",
                            "      <td>2021</td>\n",
                            "      <td>53.82</td>\n",
                            "      <td>70.67</td>\n",
                            "    </tr>\n",
                            "    <tr>\n",
                            "      <th>4</th>\n",
                            "      <td>2020</td>\n",
                            "      <td>31.53</td>\n",
                            "      <td>28.31</td>\n",
                            "    </tr>\n",
                            "  </tbody>\n",
                            "</table>\n",
                            "</div>"
                        ],
                        "text/plain": [
                            "   year  revenue  change\n",
                            "0  2024    97.15    0.39\n",
                            "1  2023    96.77   18.80\n",
                            "2  2022    81.46   51.35\n",
                            "3  2021    53.82   70.67\n",
                            "4  2020    31.53   28.31"
                        ]
                    },
                    "execution_count": 12,
                    "metadata": {},
                    "output_type": "execute_result"
                }
            ],
            "source": [
                "# get the dataframe to verify if it is ok\n",
                "df_from_db = get_df_from_db(db_name=db_name, table_name=table_name)\n",
                "df_from_db.head()"
            ]
        },
        {
            "cell_type": "markdown",
            "metadata": {},
            "source": [
                "## Visualize the data"
            ]
        },
        {
            "cell_type": "code",
            "execution_count": 13,
            "metadata": {},
            "outputs": [
                {
                    "data": {
                        "image/png": "[encoded data removed]",
                        "text/plain": [
                            "<Figure size 640x480 with 1 Axes>"
                        ]
                    },
                    "metadata": {},
                    "output_type": "display_data"
                }
            ],
            "source": [
                "# graph with a linear regression year vs revenue\n",
                "sns.regplot(x=\"year\", y=\"revenue\", data=df_from_db);"
            ]
        },
        {
            "cell_type": "code",
            "execution_count": 14,
            "metadata": {},
            "outputs": [
                {
                    "data": {
                        "image/png": "[encoded data removed]",
                        "text/plain": [
                            "<Figure size 640x480 with 1 Axes>"
                        ]
                    },
                    "metadata": {},
                    "output_type": "display_data"
                }
            ],
            "source": [
                "# graph with a linear regression year vs change\n",
                "sns.regplot(x=\"year\", y=\"change\", data=df_from_db);"
            ]
        },
        {
            "cell_type": "code",
            "execution_count": 15,
            "metadata": {},
            "outputs": [
                {
                    "data": {
                        "text/plain": [
                            "<Axes: xlabel='year', ylabel='revenue'>"
                        ]
                    },
                    "execution_count": 15,
                    "metadata": {},
                    "output_type": "execute_result"
                },
                {
                    "data": {
                        "image/png": "[encoded data removed]",
                        "text/plain": [
                            "<Figure size 900x800 with 1 Axes>"
                        ]
                    },
                    "metadata": {},
                    "output_type": "display_data"
                }
            ],
            "source": [
                "# revenue by year as bar char\n",
                "sns.set_theme(rc={'figure.figsize':(9,8)})\n",
                "sns.barplot(df_from_db, x=\"year\", y=\"revenue\")"
            ]
        },
        {
            "cell_type": "code",
            "execution_count": 16,
            "metadata": {},
            "outputs": [
                {
                    "data": {
                        "text/plain": [
                            "<Axes: xlabel='year', ylabel='change'>"
                        ]
                    },
                    "execution_count": 16,
                    "metadata": {},
                    "output_type": "execute_result"
                },
                {
                    "data": {
                        "image/png": "[encoded data removed]",
                        "text/plain": [
                            "<Figure size 900x500 with 1 Axes>"
                        ]
                    },
                    "metadata": {},
                    "output_type": "display_data"
                }
            ],
            "source": [
                "# change by year as bar char\n",
                "sns.set_theme(rc={'figure.figsize':(9,5)})\n",
                "sns.barplot(df_from_db, x=\"year\", y=\"change\")"
            ]
        }
    ],
    "metadata": {
        "kernelspec": {
            "display_name": "Python 3",
            "language": "python",
            "name": "python3"
        },
        "language_info": {
            "codemirror_mode": {
                "name": "ipython",
                "version": 3
            },
            "file_extension": ".py",
            "mimetype": "text/x-python",
            "name": "python",
            "nbconvert_exporter": "python",
            "pygments_lexer": "ipython3",
            "version": "3.11.4"
        },
        "orig_nbformat": 4
    },
    "nbformat": 4,
    "nbformat_minor": 2
}
